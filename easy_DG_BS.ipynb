{
  "nbformat": 4,
  "nbformat_minor": 0,
  "metadata": {
    "colab": {
      "name": "easy_DG_BS.ipynb",
      "provenance": [],
      "authorship_tag": "ABX9TyMHWxLQ75LPlZ/sYFq5jgS8",
      "include_colab_link": true
    },
    "kernelspec": {
      "name": "python3",
      "display_name": "Python 3"
    },
    "language_info": {
      "name": "python"
    },
    "accelerator": "GPU"
  },
  "cells": [
    {
      "cell_type": "markdown",
      "metadata": {
        "id": "view-in-github",
        "colab_type": "text"
      },
      "source": [
        "<a href=\"https://colab.research.google.com/github/jm-h98/easy_DG_BS/blob/main/easy_DG_BS.ipynb\" target=\"_parent\"><img src=\"https://colab.research.google.com/assets/colab-badge.svg\" alt=\"Open In Colab\"/></a>"
      ]
    },
    {
      "cell_type": "code",
      "metadata": {
        "id": "sBl7tOnZFJF-"
      },
      "source": [
        "# install requirements\n",
        "!pip install deep-daze --upgrade\n",
        "!pip install big-sleep --upgrade"
      ],
      "execution_count": null,
      "outputs": []
    },
    {
      "cell_type": "code",
      "metadata": {
        "id": "cNzB0S59FhuP"
      },
      "source": [
        "# deep daze https://github.com/lucidrains/deep-daze\n",
        "# using openai's CLIP and Siren to guide BigGAN\n",
        "# if Upload_Image is activated, upload your image using the button below\n",
        "# produces more abstract images\n",
        "\n",
        "from tqdm.notebook import trange\n",
        "from IPython.display import Image, display\n",
        "from PIL import Image as i\n",
        "\n",
        "from deep_daze import Imagine\n",
        "\n",
        "TEXT = '' #@param {type:\"string\"}\n",
        "DISPLAY_EVERY =  20 #@param {type:\"number\"}\n",
        "IMAGE_WIDTH = 512 #@param {type:\"number\"}\n",
        "Upload_Image = False #@param {type:\"boolean\"}\n",
        "EPOCHS = 20\n",
        "img_path = None\n",
        "ITERATIONS = 500\n",
        "if Upload_Image:\n",
        "  from google.colab import files\n",
        "  uploaded = files.upload()\n",
        "  for fn in uploaded.keys():\n",
        "    img_path = fn\n",
        "  IMG = i.open(img_path)\n",
        "else:\n",
        "  IMG = None\n",
        "model = Imagine(\n",
        "    img = IMG,\n",
        "    epochs = EPOCHS,\n",
        "    text = TEXT,\n",
        "    num_layers = 32,\n",
        "    save_every = DISPLAY_EVERY,\n",
        "    image_width = IMAGE_WIDTH,\n",
        "    lr = 1e-5,\n",
        "    iterations = ITERATIONS,\n",
        "    save_progress = True\n",
        ")\n",
        "for epoch in trange(EPOCHS, desc = 'epochs'):\n",
        "    for i in trange(ITERATIONS, desc = 'iteration'):\n",
        "        model.train_step(epoch, i)\n",
        "\n",
        "        if i % model.save_every != 0:\n",
        "            continue\n",
        "\n",
        "        filename = TEXT.replace(' ', '_')\n",
        "        image = Image(f'./{filename}.jpg')\n",
        "        display(image)"
      ],
      "execution_count": null,
      "outputs": []
    },
    {
      "cell_type": "code",
      "metadata": {
        "id": "9TASRQ1uVX8b"
      },
      "source": [
        "# big sleep https://github.com/htoyryla/big-sleep\n",
        "# using openai's CLIP to guide BigGAN\n",
        "# produces more realistic images\n",
        "\n",
        "from tqdm.notebook import trange\n",
        "from IPython.display import Image, display\n",
        "from big_sleep import Imagine\n",
        "\n",
        "TEXT = '' #@param {type:\"string\"}\n",
        "SAVE_EVERY = 20 #@param {type:\"number\"}\n",
        "SAVE_PROGRESS = True\n",
        "LEARNING_RATE = 5e-2\n",
        "ITERATIONS = 500\n",
        "SEED = 123456789 #@param {type: \"number\"}\n",
        "EPOCHS = 20\n",
        "model = Imagine(\n",
        "    text = TEXT,\n",
        "    save_every = SAVE_EVERY,\n",
        "    lr = LEARNING_RATE,\n",
        "    iterations = ITERATIONS,\n",
        "    save_progress = SAVE_PROGRESS,\n",
        "    seed = SEED)\n",
        "for epoch in trange(EPOCHS, desc = 'epochs'):\n",
        "    for i in trange(ITERATIONS, desc = 'iteration'):\n",
        "        model.train_step(epoch, i)\n",
        "        if i == 0 or i % model.save_every != 0:\n",
        "            continue\n",
        "        filename = TEXT.replace(' ', '_')\n",
        "        image = Image(f'./{filename}.png')\n",
        "        display(image)"
      ],
      "execution_count": null,
      "outputs": []
    },
    {
      "cell_type": "code",
      "metadata": {
        "id": "FJX4IwgWU2Qo"
      },
      "source": [
        "# download everything from /contents/\n",
        "# to save output images locally\n",
        "\n",
        "!zip -r /content/file.zip /content\n",
        "\n",
        "from google.colab import files\n",
        "files.download(\"/content/file.zip\")"
      ],
      "execution_count": null,
      "outputs": []
    }
  ]
}