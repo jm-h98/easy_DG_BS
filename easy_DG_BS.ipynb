{
  "nbformat": 4,
  "nbformat_minor": 0,
  "metadata": {
    "colab": {
      "name": "easy_DG_BS.ipynb",
      "provenance": [],
      "toc_visible": true,
      "authorship_tag": "ABX9TyM4EOKoQJqr+khRjwK2wA3h",
      "include_colab_link": true
    },
    "kernelspec": {
      "name": "python3",
      "display_name": "Python 3"
    },
    "language_info": {
      "name": "python"
    },
    "accelerator": "GPU"
  },
  "cells": [
    {
      "cell_type": "markdown",
      "metadata": {
        "id": "view-in-github",
        "colab_type": "text"
      },
      "source": [
        "<a href=\"https://colab.research.google.com/github/jm-h98/easy_DG_BS/blob/main/easy_DG_BS.ipynb\" target=\"_parent\"><img src=\"https://colab.research.google.com/assets/colab-badge.svg\" alt=\"Open In Colab\"/></a>"
      ]
    },
    {
      "cell_type": "markdown",
      "metadata": {
        "id": "Eb7WwQ9pZZqk"
      },
      "source": [
        "# Notebook to easily use BigGAN:\n",
        "1. Install the requirements\n",
        "2. Run either deep gaze OR big sleep, you cant run both at the same time!\n",
        "3. Create a .zip-file of the generated images\n",
        "4. Create a video of the progress"
      ]
    },
    {
      "cell_type": "code",
      "metadata": {
        "id": "kUC_X-67uPQg"
      },
      "source": [
        "# test gpu: K80 < P4 < T4 < P100\n",
        "!nvidia-smi"
      ],
      "execution_count": null,
      "outputs": []
    },
    {
      "cell_type": "code",
      "metadata": {
        "id": "sBl7tOnZFJF-"
      },
      "source": [
        "# install requirements\n",
        "!pip install deep-daze --upgrade\n",
        "!pip install big-sleep --upgrade"
      ],
      "execution_count": null,
      "outputs": []
    },
    {
      "cell_type": "code",
      "metadata": {
        "id": "cNzB0S59FhuP"
      },
      "source": [
        "# deep daze https://github.com/lucidrains/deep-daze\n",
        "# using openai's CLIP and Siren to guide BigGAN\n",
        "# if Upload_Image is activated, upload your image using the button below\n",
        "# produces more abstract images\n",
        "\n",
        "# you can only run this or the next code field at a time\n",
        "\n",
        "from tqdm.notebook import trange\n",
        "from IPython.display import Image, display\n",
        "from PIL import Image as i\n",
        "\n",
        "from deep_daze import Imagine\n",
        "import glob\n",
        "import os\n",
        "\n",
        "imgs = glob.glob(\"/content/*.png\")\n",
        "for img in imgs:\n",
        "  try:\n",
        "    os.remove(img)\n",
        "  except:\n",
        "    pass\n",
        "\n",
        "TEXT = '' #@param {type:\"string\"}\n",
        "DISPLAY_EVERY =  10 #@param {type:\"number\"}\n",
        "IMAGE_WIDTH = 512 #@param {type:\"number\"}\n",
        "Upload_Image = False #@param {type:\"boolean\"}\n",
        "EPOCHS = 20\n",
        "img_path = None\n",
        "ITERATIONS = 500\n",
        "if Upload_Image:\n",
        "  from google.colab import files\n",
        "  uploaded = files.upload()\n",
        "  for fn in uploaded.keys():\n",
        "    img_path = fn\n",
        "  IMG = i.open(img_path)\n",
        "else:\n",
        "  IMG = None\n",
        "model = Imagine(\n",
        "    img = IMG,\n",
        "    epochs = EPOCHS,\n",
        "    text = TEXT,\n",
        "    num_layers = 32,\n",
        "    save_every = DISPLAY_EVERY,\n",
        "    image_width = IMAGE_WIDTH,\n",
        "    lr = 1e-5,\n",
        "    iterations = ITERATIONS,\n",
        "    save_progress = True\n",
        ")\n",
        "for epoch in trange(EPOCHS, desc = 'epochs'):\n",
        "    for i in trange(ITERATIONS, desc = 'iteration'):\n",
        "        model.train_step(epoch, i)\n",
        "\n",
        "        if i % model.save_every != 0:\n",
        "            continue\n",
        "\n",
        "        filename = TEXT.replace(' ', '_')\n",
        "        image = Image(f'./{filename}.jpg')\n",
        "        display(image)"
      ],
      "execution_count": null,
      "outputs": []
    },
    {
      "cell_type": "code",
      "metadata": {
        "id": "9TASRQ1uVX8b"
      },
      "source": [
        "# big sleep https://github.com/htoyryla/big-sleep\n",
        "# using openai's CLIP to guide BigGAN\n",
        "# produces more realistic images\n",
        "\n",
        "# you can only run this or the previous code field at a time\n",
        "\n",
        "from tqdm.notebook import trange\n",
        "from IPython.display import Image, display\n",
        "from big_sleep import Imagine\n",
        "import glob\n",
        "import os\n",
        "\n",
        "imgs = glob.glob(\"/content/*.png\")\n",
        "for img in imgs:\n",
        "  try:\n",
        "    os.remove(img)\n",
        "  except:\n",
        "    pass\n",
        "\n",
        "TEXT = '' #@param {type:\"string\"}\n",
        "SAVE_EVERY = 20 #@param {type:\"number\"}\n",
        "SAVE_PROGRESS = True\n",
        "LEARNING_RATE = 5e-2\n",
        "ITERATIONS = 200\n",
        "SEED = 123456789 #@param {type: \"number\"}\n",
        "EPOCHS = 20\n",
        "model = Imagine(\n",
        "    text = TEXT,\n",
        "    save_every = SAVE_EVERY,\n",
        "    lr = LEARNING_RATE,\n",
        "    iterations = ITERATIONS,\n",
        "    save_progress = SAVE_PROGRESS,\n",
        "    seed = SEED)\n",
        "for epoch in trange(EPOCHS, desc = 'epochs'):\n",
        "    for i in trange(ITERATIONS, desc = 'iteration'):\n",
        "        model.train_step(epoch, i)\n",
        "        if i == 0 or i % model.save_every != 0:\n",
        "            continue\n",
        "        filename = TEXT.replace(' ', '_')\n",
        "        image = Image(f'./{filename}.png')\n",
        "        display(image)"
      ],
      "execution_count": null,
      "outputs": []
    },
    {
      "cell_type": "markdown",
      "metadata": {
        "id": "jbEFuGEUbm3j"
      },
      "source": [
        "# Download images or generate video\n",
        "1. Run the image renamer\n",
        "2. (optional) Download .zip-file\n",
        "3. (optional) Generate and download .mp4-file"
      ]
    },
    {
      "cell_type": "code",
      "metadata": {
        "id": "hiA8JbtIb5lV"
      },
      "source": [
        "# rename the images\n",
        "\n",
        "import glob\n",
        "import os\n",
        "\n",
        "imgs = glob.glob(\"/content/*.png\")\n",
        "for img in imgs:\n",
        "  try:\n",
        "    name, num = img[:-4].split('.')\n",
        "    new_name = '{}.{}.png'.format(name, num.zfill(5))\n",
        "    os.rename(img, new_name)\n",
        "  except:\n",
        "    pass"
      ],
      "execution_count": 5,
      "outputs": []
    },
    {
      "cell_type": "code",
      "metadata": {
        "id": "FJX4IwgWU2Qo"
      },
      "source": [
        "# download everything from /contents/ as a .zip-file\n",
        "# download can take quite some time\n",
        "\n",
        "!zip -r /content/file.zip /content\n",
        "\n",
        "from google.colab import files\n",
        "files.download(\"/content/files.zip\")"
      ],
      "execution_count": null,
      "outputs": []
    },
    {
      "cell_type": "code",
      "metadata": {
        "id": "W3W8-M4Qchk7"
      },
      "source": [
        "# generate video and download it\n",
        "\n",
        "import cv2\n",
        "import numpy as np\n",
        "\n",
        "FPS = 60 #@param {type:\"integer\"}\n",
        "\n",
        "imgs = glob.glob(\"/content/*.png\")\n",
        "imgs.extend(glob.glob(\"/content/*.jpg\"))\n",
        "imgs = sorted(imgs)\n",
        "i = cv2.imread(imgs[0])\n",
        "height, width, _ = i.shape\n",
        "fourcc = cv2.VideoWriter_fourcc(*'mp4v') \n",
        "video=cv2.VideoWriter('/content/video.mp4', fourcc, FPS, (width,height))\n",
        "\n",
        "for img in imgs:\n",
        "  img = cv2.imread(img)\n",
        "  video.write(img)\n",
        "\n",
        "video.release()\n",
        "cv2.destroyAllWindows()\n",
        "\n",
        "from google.colab import files\n",
        "files.download(\"/content/video.mp4\")"
      ],
      "execution_count": null,
      "outputs": []
    }
  ]
}